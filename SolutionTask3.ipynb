{
 "cells": [
  {
   "cell_type": "markdown",
   "metadata": {},
   "source": [
    "## TASK 3 - By Waqas Khalid Obeidy\n",
    "\n",
    "### Feed the following paragraph into your favourite data analytics tool, and answer the following;\n",
    "'''\n",
    "As a term, data analytics predominantly refers to an assortment of applications, from basic \n",
    "business intelligence (BI), reporting and online analytical processing (OLAP) to various forms of \n",
    "advanced analytics. In that sense, it's similar in nature to business analytics, another umbrella \n",
    "term for approaches to analyzing data -- with the difference that the latter is oriented to \n",
    "business uses, while data analytics has a broader focus. The expansive view of the term isn't \n",
    "universal, though: In some cases, people use data analytics specifically to mean advanced \n",
    "analytics, treating BI as a separate category. Data analytics initiatives can help businesses \n",
    "increase revenues, improve operational efficiency, optimize marketing campaigns and customer \n",
    "service efforts, respond more quickly to emerging market trends and gain a competitive edge \n",
    "over rivals -- all with the ultimate goal of boosting business performance. Depending on the \n",
    "particular application, the data that's analyzed can consist of either historical records or new \n",
    "information that has been processed for real-time analytics uses. In addition, it can come from a \n",
    "mix of internal systems and external data sources. At a high level, data analytics methodologies \n",
    "include exploratory data analysis (EDA), which aims to find patterns and relationships in data, \n",
    "and confirmatory data analysis (CDA), which applies statistical techniques to determine whether \n",
    "hypotheses about a data set are true or false. EDA is often compared to detective work, while \n",
    "CDA is akin to the work of a judge or jury during a court trial -- a distinction first drawn by \n",
    "statistician John W. Tukey in his 1977 book Exploratory Data Analysis. Data analytics can also \n",
    "be separated into quantitative data analysis and qualitative data analysis. The former involves \n",
    "analysis of numerical data with quantifiable variables that can be compared or measured \n",
    "statistically. The qualitative approach is more interpretive -- it focuses on understanding the \n",
    "content of non-numerical data like text, images, audio and video, including common phrases, \n",
    "themes and points of view.\n",
    "'''\n",
    "\n",
    "- a. What is the probability of the word “data” occurring in each line ?\n",
    "- b. What is the distribution of distinct word counts across all the lines ?\n",
    "- c. What is the probability of the word “analytics” occurring after the word “data” ?\n"
   ]
  },
  {
   "cell_type": "markdown",
   "metadata": {},
   "source": [
    "## A. Lets get to work - figure out this -> What is the probability of the word “data” occurring in each line ?\n",
    "- 1. We shall first figure out the word counts,\n",
    "- 2. find the number of lines\n",
    "- 3. find the number of times the word data appears in the text.\n",
    "- 4. calculate the probability"
   ]
  },
  {
   "cell_type": "code",
   "execution_count": 4,
   "metadata": {},
   "outputs": [],
   "source": [
    "# Start with importing libraries\n",
    "import re\n",
    "from collections import Counter\n",
    "import pandas as pd\n",
    "import nltk \n",
    "from sklearn.feature_extraction.text import CountVectorizer, TfidfVectorizer \n",
    "from nltk.corpus import stopwords \n",
    "from nltk.tokenize import word_tokenize "
   ]
  },
  {
   "cell_type": "code",
   "execution_count": 5,
   "metadata": {},
   "outputs": [
    {
     "name": "stdout",
     "output_type": "stream",
     "text": [
      "As a term, data analytics predominantly refers to an assortment of applications, from basic \n",
      "business intelligence (BI), reporting and online analytical processing (OLAP) to various forms of \n",
      "advanced analytics. In that sense, it's similar in nature to business analytics, another umbrella \n",
      "term for approaches to analyzing data -- with the difference that the latter is oriented to \n",
      "business uses, while data analytics has a broader focus. The expansive view of the term isn't \n",
      "universal, though: In some cases, people use data analytics specifically to mean advanced \n",
      "analytics, treating BI as a separate category. Data analytics initiatives can help businesses \n",
      "increase revenues, improve operational efficiency, optimize marketing campaigns and customer \n",
      "service efforts, respond more quickly to emerging market trends and gain a competitive edge \n",
      "over rivals -- all with the ultimate goal of boosting business performance. Depending on the \n",
      "particular application, the data that's analyzed can consist of either historical records or new \n",
      "information that has been processed for real-time analytics uses. In addition, it can come from a \n",
      "mix of internal systems and external data sources. At a high level, data analytics methodologies \n",
      "include exploratory data analysis (EDA), which aims to find patterns and relationships in data, \n",
      "and confirmatory data analysis (CDA), which applies statistical techniques to determine whether \n",
      "hypotheses about a data set are true or false. EDA is often compared to detective work, while \n",
      "CDA is akin to the work of a judge or jury during a court trial -- a distinction first drawn by \n",
      "statistician John W. Tukey in his 1977 book Exploratory Data Analysis. Data analytics can also \n",
      "be separated into quantitative data analysis and qualitative data analysis. The former involves \n",
      "analysis of numerical data with quantifiable variables that can be compared or measured \n",
      "statistically. The qualitative approach is more interpretive -- it focuses on understanding the \n",
      "content of non-numerical data like text, images, audio and video, including common phrases, \n",
      "themes and points of view.\n"
     ]
    }
   ],
   "source": [
    "given_string = \"\"\"As a term, data analytics predominantly refers to an assortment of applications, from basic \\nbusiness intelligence (BI), reporting and online analytical processing (OLAP) to various forms of \\nadvanced analytics. In that sense, it's similar in nature to business analytics, another umbrella \\nterm for approaches to analyzing data -- with the difference that the latter is oriented to \\nbusiness uses, while data analytics has a broader focus. The expansive view of the term isn't \\nuniversal, though: In some cases, people use data analytics specifically to mean advanced \\nanalytics, treating BI as a separate category. Data analytics initiatives can help businesses \\nincrease revenues, improve operational efficiency, optimize marketing campaigns and customer \\nservice efforts, respond more quickly to emerging market trends and gain a competitive edge \\nover rivals -- all with the ultimate goal of boosting business performance. Depending on the \\nparticular application, the data that's analyzed can consist of either historical records or new \\ninformation that has been processed for real-time analytics uses. In addition, it can come from a \\nmix of internal systems and external data sources. At a high level, data analytics methodologies \\ninclude exploratory data analysis (EDA), which aims to find patterns and relationships in data, \\nand confirmatory data analysis (CDA), which applies statistical techniques to determine whether \\nhypotheses about a data set are true or false. EDA is often compared to detective work, while \\nCDA is akin to the work of a judge or jury during a court trial -- a distinction first drawn by \\nstatistician John W. Tukey in his 1977 book Exploratory Data Analysis. Data analytics can also \\nbe separated into quantitative data analysis and qualitative data analysis. The former involves \\nanalysis of numerical data with quantifiable variables that can be compared or measured \\nstatistically. The qualitative approach is more interpretive -- it focuses on understanding the \\ncontent of non-numerical data like text, images, audio and video, including common phrases, \\nthemes and points of view.\"\"\"\n",
    "print(given_string)"
   ]
  },
  {
   "cell_type": "code",
   "execution_count": 6,
   "metadata": {},
   "outputs": [],
   "source": [
    "given_string = given_string.lower()"
   ]
  },
  {
   "cell_type": "code",
   "execution_count": 7,
   "metadata": {},
   "outputs": [],
   "source": [
    "line_list = given_string.splitlines()"
   ]
  },
  {
   "cell_type": "code",
   "execution_count": 8,
   "metadata": {},
   "outputs": [
    {
     "data": {
      "text/plain": [
       "23"
      ]
     },
     "execution_count": 8,
     "metadata": {},
     "output_type": "execute_result"
    }
   ],
   "source": [
    "nlines = len(line_list)\n",
    "nlines"
   ]
  },
  {
   "cell_type": "code",
   "execution_count": 9,
   "metadata": {},
   "outputs": [],
   "source": [
    "def tokenize(string):\n",
    "    return re.compile('\\w+').findall(string)\n",
    "\n",
    "def word_freq(string): \n",
    "    text = tokenize(string.lower())\n",
    "    c = Counter(text)           # count the words\n",
    "    d = Counter(''.join(text))  # count all letters\n",
    "    return (dict(c))    # return a tuple of counted words and letters\n",
    "\n",
    "def return_word_freq(string): \n",
    "    text = tokenize(string.lower())\n",
    "    c = Counter(text)           # count the words\n",
    "    d = Counter(''.join(text))  # count all letters\n",
    "    return (dict(c), dict(d))    # return a tuple of counted words and letters\n",
    "\n",
    "words = word_freq(given_string) # count and get dicts with counts\n",
    "words_, letters = return_word_freq(given_string)\n",
    "\n",
    "sumWords = sum(words.values())       # sum total words\n",
    "sumLetters = sum(letters.values())   # sum total letters\n",
    "\n"
   ]
  },
  {
   "cell_type": "code",
   "execution_count": 10,
   "metadata": {},
   "outputs": [
    {
     "data": {
      "text/plain": [
       "194"
      ]
     },
     "execution_count": 10,
     "metadata": {},
     "output_type": "execute_result"
    }
   ],
   "source": [
    "len(words)"
   ]
  },
  {
   "cell_type": "code",
   "execution_count": 11,
   "metadata": {},
   "outputs": [
    {
     "data": {
      "text/plain": [
       "{'a': 10, 'data': 18, 'analytics': 10, 'to': 11, 'of': 10, 'and': 9, 'the': 11}"
      ]
     },
     "execution_count": 11,
     "metadata": {},
     "output_type": "execute_result"
    }
   ],
   "source": [
    "{k:v for (k,v) in words.items() if v>8 }"
   ]
  },
  {
   "cell_type": "code",
   "execution_count": 12,
   "metadata": {},
   "outputs": [],
   "source": [
    "# The probability of an event A is the number of ways event A can occur divided by the total number of possible outcomes.\n",
    "data_count = words['data']\n",
    "analytics_count = words['analytics']"
   ]
  },
  {
   "cell_type": "code",
   "execution_count": 13,
   "metadata": {},
   "outputs": [],
   "source": [
    "probablity_of_data_appearing_in_every_line = data_count/nlines"
   ]
  },
  {
   "cell_type": "code",
   "execution_count": 14,
   "metadata": {},
   "outputs": [
    {
     "data": {
      "text/plain": [
       "0.782608695652174"
      ]
     },
     "execution_count": 14,
     "metadata": {},
     "output_type": "execute_result"
    }
   ],
   "source": [
    "probablity_of_data_appearing_in_every_line"
   ]
  },
  {
   "cell_type": "code",
   "execution_count": 15,
   "metadata": {},
   "outputs": [],
   "source": [
    "# GOT IT ! 0.78 it is......"
   ]
  },
  {
   "cell_type": "code",
   "execution_count": 16,
   "metadata": {},
   "outputs": [],
   "source": [
    "probablity_of_data_appearing_in_full_text = data_count/sumWords"
   ]
  },
  {
   "cell_type": "code",
   "execution_count": 17,
   "metadata": {},
   "outputs": [
    {
     "data": {
      "text/plain": [
       "0.05625"
      ]
     },
     "execution_count": 17,
     "metadata": {},
     "output_type": "execute_result"
    }
   ],
   "source": [
    "probablity_of_data_appearing_in_full_text"
   ]
  },
  {
   "cell_type": "markdown",
   "metadata": {},
   "source": [
    "## B. Now figure out this -> What is the distribution of distinct word counts across all the lines ?\n",
    "- 1. We shall first figure out the distinct word counts in every line,\n",
    "- 2. Create a histogram, bar plot or something similar to see the distribution."
   ]
  },
  {
   "cell_type": "code",
   "execution_count": 18,
   "metadata": {},
   "outputs": [],
   "source": [
    "line_unique_counts = []\n",
    "for line in line_list:\n",
    "    line_unique_counts.append(len(word_freq(line)))"
   ]
  },
  {
   "cell_type": "code",
   "execution_count": 19,
   "metadata": {},
   "outputs": [
    {
     "data": {
      "text/plain": [
       "[14,\n",
       " 13,\n",
       " 13,\n",
       " 13,\n",
       " 16,\n",
       " 13,\n",
       " 12,\n",
       " 10,\n",
       " 14,\n",
       " 13,\n",
       " 15,\n",
       " 17,\n",
       " 14,\n",
       " 13,\n",
       " 12,\n",
       " 17,\n",
       " 18,\n",
       " 14,\n",
       " 11,\n",
       " 13,\n",
       " 11,\n",
       " 14,\n",
       " 5]"
      ]
     },
     "execution_count": 19,
     "metadata": {},
     "output_type": "execute_result"
    }
   ],
   "source": [
    "line_unique_counts"
   ]
  },
  {
   "cell_type": "code",
   "execution_count": 20,
   "metadata": {},
   "outputs": [],
   "source": [
    "df_unique_words = pd.DataFrame(line_unique_counts)"
   ]
  },
  {
   "cell_type": "code",
   "execution_count": 21,
   "metadata": {},
   "outputs": [
    {
     "data": {
      "text/html": [
       "<div>\n",
       "<style scoped>\n",
       "    .dataframe tbody tr th:only-of-type {\n",
       "        vertical-align: middle;\n",
       "    }\n",
       "\n",
       "    .dataframe tbody tr th {\n",
       "        vertical-align: top;\n",
       "    }\n",
       "\n",
       "    .dataframe thead th {\n",
       "        text-align: right;\n",
       "    }\n",
       "</style>\n",
       "<table border=\"1\" class=\"dataframe\">\n",
       "  <thead>\n",
       "    <tr style=\"text-align: right;\">\n",
       "      <th></th>\n",
       "      <th>Unique_Words</th>\n",
       "    </tr>\n",
       "  </thead>\n",
       "  <tbody>\n",
       "    <tr>\n",
       "      <td>0</td>\n",
       "      <td>14</td>\n",
       "    </tr>\n",
       "    <tr>\n",
       "      <td>1</td>\n",
       "      <td>13</td>\n",
       "    </tr>\n",
       "    <tr>\n",
       "      <td>2</td>\n",
       "      <td>13</td>\n",
       "    </tr>\n",
       "    <tr>\n",
       "      <td>3</td>\n",
       "      <td>13</td>\n",
       "    </tr>\n",
       "    <tr>\n",
       "      <td>4</td>\n",
       "      <td>16</td>\n",
       "    </tr>\n",
       "    <tr>\n",
       "      <td>5</td>\n",
       "      <td>13</td>\n",
       "    </tr>\n",
       "    <tr>\n",
       "      <td>6</td>\n",
       "      <td>12</td>\n",
       "    </tr>\n",
       "    <tr>\n",
       "      <td>7</td>\n",
       "      <td>10</td>\n",
       "    </tr>\n",
       "    <tr>\n",
       "      <td>8</td>\n",
       "      <td>14</td>\n",
       "    </tr>\n",
       "    <tr>\n",
       "      <td>9</td>\n",
       "      <td>13</td>\n",
       "    </tr>\n",
       "    <tr>\n",
       "      <td>10</td>\n",
       "      <td>15</td>\n",
       "    </tr>\n",
       "    <tr>\n",
       "      <td>11</td>\n",
       "      <td>17</td>\n",
       "    </tr>\n",
       "    <tr>\n",
       "      <td>12</td>\n",
       "      <td>14</td>\n",
       "    </tr>\n",
       "    <tr>\n",
       "      <td>13</td>\n",
       "      <td>13</td>\n",
       "    </tr>\n",
       "    <tr>\n",
       "      <td>14</td>\n",
       "      <td>12</td>\n",
       "    </tr>\n",
       "    <tr>\n",
       "      <td>15</td>\n",
       "      <td>17</td>\n",
       "    </tr>\n",
       "    <tr>\n",
       "      <td>16</td>\n",
       "      <td>18</td>\n",
       "    </tr>\n",
       "    <tr>\n",
       "      <td>17</td>\n",
       "      <td>14</td>\n",
       "    </tr>\n",
       "    <tr>\n",
       "      <td>18</td>\n",
       "      <td>11</td>\n",
       "    </tr>\n",
       "    <tr>\n",
       "      <td>19</td>\n",
       "      <td>13</td>\n",
       "    </tr>\n",
       "    <tr>\n",
       "      <td>20</td>\n",
       "      <td>11</td>\n",
       "    </tr>\n",
       "    <tr>\n",
       "      <td>21</td>\n",
       "      <td>14</td>\n",
       "    </tr>\n",
       "    <tr>\n",
       "      <td>22</td>\n",
       "      <td>5</td>\n",
       "    </tr>\n",
       "  </tbody>\n",
       "</table>\n",
       "</div>"
      ],
      "text/plain": [
       "    Unique_Words\n",
       "0             14\n",
       "1             13\n",
       "2             13\n",
       "3             13\n",
       "4             16\n",
       "5             13\n",
       "6             12\n",
       "7             10\n",
       "8             14\n",
       "9             13\n",
       "10            15\n",
       "11            17\n",
       "12            14\n",
       "13            13\n",
       "14            12\n",
       "15            17\n",
       "16            18\n",
       "17            14\n",
       "18            11\n",
       "19            13\n",
       "20            11\n",
       "21            14\n",
       "22             5"
      ]
     },
     "execution_count": 21,
     "metadata": {},
     "output_type": "execute_result"
    }
   ],
   "source": [
    "df_unique_words.rename(columns={0: \"Unique_Words\"})"
   ]
  },
  {
   "cell_type": "code",
   "execution_count": 22,
   "metadata": {},
   "outputs": [],
   "source": [
    "import seaborn as sns"
   ]
  },
  {
   "cell_type": "code",
   "execution_count": 23,
   "metadata": {},
   "outputs": [
    {
     "data": {
      "image/png": "[encoded data removed]",
      "text/plain": [
       "<Figure size 432x288 with 1 Axes>"
      ]
     },
     "metadata": {
      "needs_background": "light"
     },
     "output_type": "display_data"
    }
   ],
   "source": [
    "sns.distplot(df_unique_words, kde=True, rug=True);"
   ]
  },
  {
   "cell_type": "code",
   "execution_count": 24,
   "metadata": {},
   "outputs": [],
   "source": [
    "# NORMALLY DISTRIBUTED - to an extent."
   ]
  },
  {
   "cell_type": "markdown",
   "metadata": {},
   "source": [
    "## C. Finally time to figure out this -> What is the probability of the word “analytics” occurring after the word “data” ?\n",
    "- 1. Lets create the bigrams,\n",
    "- 2. find their counts\n",
    "- 3. find \"data analytics\" and only \"analytics\" counts\n",
    "- 4. Calculate the probability."
   ]
  },
  {
   "cell_type": "code",
   "execution_count": 25,
   "metadata": {},
   "outputs": [
    {
     "name": "stdout",
     "output_type": "stream",
     "text": [
      "\n",
      "\n",
      "Words : \n",
      "                  term      rank\n",
      "80     data analytics  1.121468\n",
      "79      data analysis  1.074633\n",
      "100  exploratory data  0.509671\n",
      "159    numerical data  0.507052\n",
      "235        themes and  0.500000\n",
      "32         and points  0.500000\n",
      "186         points of  0.500000\n"
     ]
    }
   ],
   "source": [
    "# import nltk \n",
    "# import re \n",
    "# from sklearn.feature_extraction.text import CountVectorizer, TfidfVectorizer \n",
    "# from nltk.corpus import stopwords \n",
    "# from nltk.tokenize import word_tokenize \n",
    "# import pandas as pd \n",
    "\n",
    "# Getting bigrams  \n",
    "vectorizer = CountVectorizer(ngram_range =(2, 2)) \n",
    "X1 = vectorizer.fit_transform(line_list)  \n",
    "features = (vectorizer.get_feature_names()) \n",
    "# print(\"\\n\\nX1 : \\n\", X1.toarray()) \n",
    "  \n",
    "# Applying TFIDF \n",
    "# You can still get n-grams here \n",
    "vectorizer = TfidfVectorizer(ngram_range = (2, 2)) \n",
    "X2 = vectorizer.fit_transform(line_list) \n",
    "scores = (X2.toarray()) \n",
    "# print(\"\\n\\nScores : \\n\", scores) \n",
    "  \n",
    "# Getting top ranking features \n",
    "sums = X2.sum(axis = 0) \n",
    "data1 = [] \n",
    "for col, term in enumerate(features): \n",
    "    data1.append( (term, sums[0, col] )) \n",
    "ranking = pd.DataFrame(data1, columns = ['term', 'rank']) \n",
    "words = (ranking.sort_values('rank', ascending = False)) \n",
    "print (\"\\n\\nWords : \\n\", words.head(7)) "
   ]
  },
  {
   "cell_type": "code",
   "execution_count": 26,
   "metadata": {},
   "outputs": [
    {
     "name": "stdout",
     "output_type": "stream",
     "text": [
      "Number of times data analytics appear together: 6\n",
      "Number of times only analytics appear in complete text: 10\n"
     ]
    }
   ],
   "source": [
    "#The probability of an event A is the number of ways event A can occur divided by the total number of possible outcomes.\n",
    "import re\n",
    "from collections import Counter\n",
    "bigramwords = re.findall('\\w+', given_string)\n",
    "bigram_counts = Counter(zip(bigramwords,bigramwords[1:]))\n",
    "data_analytics_count = bigram_counts[(\"data\", \"analytics\")]\n",
    "print(f\"Number of times data analytics appear together: {data_analytics_count}\")\n",
    "print(f\"Number of times only analytics appear in complete text: {analytics_count}\")"
   ]
  },
  {
   "cell_type": "code",
   "execution_count": 27,
   "metadata": {},
   "outputs": [
    {
     "name": "stdout",
     "output_type": "stream",
     "text": [
      "Probablity of analytics appearing after data: 0.6\n"
     ]
    }
   ],
   "source": [
    "print(f\"Probablity of analytics appearing after data: {data_analytics_count/analytics_count}\")"
   ]
  },
  {
   "cell_type": "code",
   "execution_count": null,
   "metadata": {},
   "outputs": [],
   "source": []
  },
  {
   "cell_type": "code",
   "execution_count": null,
   "metadata": {},
   "outputs": [],
   "source": []
  },
  {
   "cell_type": "code",
   "execution_count": null,
   "metadata": {},
   "outputs": [],
   "source": []
  }
 ],
 "metadata": {
  "kernelspec": {
   "display_name": "Python 3",
   "language": "python",
   "name": "python3"
  },
  "language_info": {
   "codemirror_mode": {
    "name": "ipython",
    "version": 3
   },
   "file_extension": ".py",
   "mimetype": "text/x-python",
   "name": "python",
   "nbconvert_exporter": "python",
   "pygments_lexer": "ipython3",
   "version": "3.7.4"
  }
 },
 "nbformat": 4,
 "nbformat_minor": 4
}
