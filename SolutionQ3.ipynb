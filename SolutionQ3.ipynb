{
  "nbformat": 4,
  "nbformat_minor": 0,
  "metadata": {
    "kernelspec": {
      "display_name": "Python 3",
      "language": "python",
      "name": "python3"
    },
    "language_info": {
      "codemirror_mode": {
        "name": "ipython",
        "version": 3
      },
      "file_extension": ".py",
      "mimetype": "text/x-python",
      "name": "python",
      "nbconvert_exporter": "python",
      "pygments_lexer": "ipython3",
      "version": "3.7.4"
    },
    "colab": {
      "name": "SolutionQ3.ipynb",
      "provenance": [],
      "include_colab_link": true
    }
  },
  "cells": [
    {
      "cell_type": "markdown",
      "metadata": {
        "id": "view-in-github",
        "colab_type": "text"
      },
      "source": [
        "<a href=\"https://colab.research.google.com/github/swidyarto/ACE-Digital/blob/main/SolutionQ3.ipynb\" target=\"_parent\"><img src=\"https://colab.research.google.com/assets/colab-badge.svg\" alt=\"Open In Colab\"/></a>"
      ]
    },
    {
      "cell_type": "markdown",
      "metadata": {
        "id": "5m_ie_M63YLG"
      },
      "source": [
        "## Question 3\n",
        "\n",
        "### Feed the following paragraph into your favourite data analytics tool, and answer the following;\n",
        "'''\n",
        "As a term, data analytics predominantly refers to an assortment of applications, from basic \n",
        "business intelligence (BI), reporting and online analytical processing (OLAP) to various forms of \n",
        "advanced analytics. In that sense, it's similar in nature to business analytics, another umbrella \n",
        "term for approaches to analyzing data -- with the difference that the latter is oriented to \n",
        "business uses, while data analytics has a broader focus. The expansive view of the term isn't \n",
        "universal, though: In some cases, people use data analytics specifically to mean advanced \n",
        "analytics, treating BI as a separate category. Data analytics initiatives can help businesses \n",
        "increase revenues, improve operational efficiency, optimize marketing campaigns and customer \n",
        "service efforts, respond more quickly to emerging market trends and gain a competitive edge \n",
        "over rivals -- all with the ultimate goal of boosting business performance. Depending on the \n",
        "particular application, the data that's analyzed can consist of either historical records or new \n",
        "information that has been processed for real-time analytics uses. In addition, it can come from a \n",
        "mix of internal systems and external data sources. At a high level, data analytics methodologies \n",
        "include exploratory data analysis (EDA), which aims to find patterns and relationships in data, \n",
        "and confirmatory data analysis (CDA), which applies statistical techniques to determine whether \n",
        "hypotheses about a data set are true or false. EDA is often compared to detective work, while \n",
        "CDA is akin to the work of a judge or jury during a court trial -- a distinction first drawn by \n",
        "statistician John W. Tukey in his 1977 book Exploratory Data Analysis. Data analytics can also \n",
        "be separated into quantitative data analysis and qualitative data analysis. The former involves \n",
        "analysis of numerical data with quantifiable variables that can be compared or measured \n",
        "statistically. The qualitative approach is more interpretive -- it focuses on understanding the \n",
        "content of non-numerical data like text, images, audio and video, including common phrases, \n",
        "themes and points of view.\n",
        "'''\n",
        "\n",
        "- a. What is the probability of the word “data” occurring in each line ?\n",
        "- b. What is the distribution of distinct word counts across all the lines ?\n",
        "- c. What is the probability of the word “analytics” occurring after the word “data” ?\n"
      ]
    },
    {
      "cell_type": "markdown",
      "metadata": {
        "id": "hgKfDOMx3YLM"
      },
      "source": [
        "### Question **3.a** and **3.c** are almost similar but **3.c** bigrams must be applied.\n",
        "## a. What is the probability of the word “data” occurring in each line ?\n",
        "- 1. investigate how many the word \"data\".\n",
        "- 2. check the number of lines\n",
        "- 3. find the number of times the word \"data\" appears in the text.\n",
        "- 4. calculate the probability"
      ]
    },
    {
      "cell_type": "code",
      "metadata": {
        "id": "mF2UAu8X3YLN"
      },
      "source": [
        "# Start with importing libraries\n",
        "import re\n",
        "from collections import Counter\n",
        "import pandas as pd\n",
        "import nltk \n",
        "from sklearn.feature_extraction.text import CountVectorizer, TfidfVectorizer \n",
        "from nltk.corpus import stopwords \n",
        "from nltk.tokenize import word_tokenize "
      ],
      "execution_count": null,
      "outputs": []
    },
    {
      "cell_type": "code",
      "metadata": {
        "colab": {
          "base_uri": "https://localhost:8080/"
        },
        "id": "nxnSmsBy3YLO",
        "outputId": "c7ffb6ff-d1cc-4eaa-f608-1f6c8e14d355"
      },
      "source": [
        "given_string = \"\"\"As a term, data analytics predominantly refers to an assortment of applications, from basic \\nbusiness intelligence (BI), reporting and online analytical processing (OLAP) to various forms of \\nadvanced analytics. In that sense, it's similar in nature to business analytics, another umbrella \\nterm for approaches to analyzing data -- with the difference that the latter is oriented to \\nbusiness uses, while data analytics has a broader focus. The expansive view of the term isn't \\nuniversal, though: In some cases, people use data analytics specifically to mean advanced \\nanalytics, treating BI as a separate category. Data analytics initiatives can help businesses \\nincrease revenues, improve operational efficiency, optimize marketing campaigns and customer \\nservice efforts, respond more quickly to emerging market trends and gain a competitive edge \\nover rivals -- all with the ultimate goal of boosting business performance. Depending on the \\nparticular application, the data that's analyzed can consist of either historical records or new \\ninformation that has been processed for real-time analytics uses. In addition, it can come from a \\nmix of internal systems and external data sources. At a high level, data analytics methodologies \\ninclude exploratory data analysis (EDA), which aims to find patterns and relationships in data, \\nand confirmatory data analysis (CDA), which applies statistical techniques to determine whether \\nhypotheses about a data set are true or false. EDA is often compared to detective work, while \\nCDA is akin to the work of a judge or jury during a court trial -- a distinction first drawn by \\nstatistician John W. Tukey in his 1977 book Exploratory Data Analysis. Data analytics can also \\nbe separated into quantitative data analysis and qualitative data analysis. The former involves \\nanalysis of numerical data with quantifiable variables that can be compared or measured \\nstatistically. The qualitative approach is more interpretive -- it focuses on understanding the \\ncontent of non-numerical data like text, images, audio and video, including common phrases, \\nthemes and points of view.\"\"\"\n",
        "print(given_string)"
      ],
      "execution_count": null,
      "outputs": [
        {
          "output_type": "stream",
          "text": [
            "As a term, data analytics predominantly refers to an assortment of applications, from basic \n",
            "business intelligence (BI), reporting and online analytical processing (OLAP) to various forms of \n",
            "advanced analytics. In that sense, it's similar in nature to business analytics, another umbrella \n",
            "term for approaches to analyzing data -- with the difference that the latter is oriented to \n",
            "business uses, while data analytics has a broader focus. The expansive view of the term isn't \n",
            "universal, though: In some cases, people use data analytics specifically to mean advanced \n",
            "analytics, treating BI as a separate category. Data analytics initiatives can help businesses \n",
            "increase revenues, improve operational efficiency, optimize marketing campaigns and customer \n",
            "service efforts, respond more quickly to emerging market trends and gain a competitive edge \n",
            "over rivals -- all with the ultimate goal of boosting business performance. Depending on the \n",
            "particular application, the data that's analyzed can consist of either historical records or new \n",
            "information that has been processed for real-time analytics uses. In addition, it can come from a \n",
            "mix of internal systems and external data sources. At a high level, data analytics methodologies \n",
            "include exploratory data analysis (EDA), which aims to find patterns and relationships in data, \n",
            "and confirmatory data analysis (CDA), which applies statistical techniques to determine whether \n",
            "hypotheses about a data set are true or false. EDA is often compared to detective work, while \n",
            "CDA is akin to the work of a judge or jury during a court trial -- a distinction first drawn by \n",
            "statistician John W. Tukey in his 1977 book Exploratory Data Analysis. Data analytics can also \n",
            "be separated into quantitative data analysis and qualitative data analysis. The former involves \n",
            "analysis of numerical data with quantifiable variables that can be compared or measured \n",
            "statistically. The qualitative approach is more interpretive -- it focuses on understanding the \n",
            "content of non-numerical data like text, images, audio and video, including common phrases, \n",
            "themes and points of view.\n"
          ],
          "name": "stdout"
        }
      ]
    },
    {
      "cell_type": "code",
      "metadata": {
        "id": "-dyoH43U3YLP"
      },
      "source": [
        "given_string = given_string.lower()"
      ],
      "execution_count": null,
      "outputs": []
    },
    {
      "cell_type": "code",
      "metadata": {
        "id": "WFsxDkdS3YLP"
      },
      "source": [
        "line_list = given_string.splitlines()"
      ],
      "execution_count": null,
      "outputs": []
    },
    {
      "cell_type": "code",
      "metadata": {
        "colab": {
          "base_uri": "https://localhost:8080/"
        },
        "id": "_jJgc9sT3YLQ",
        "outputId": "1d3dbdef-695a-4f16-ee82-e4f926660dd5"
      },
      "source": [
        "nlines = len(line_list)\n",
        "nlines"
      ],
      "execution_count": null,
      "outputs": [
        {
          "output_type": "execute_result",
          "data": {
            "text/plain": [
              "23"
            ]
          },
          "metadata": {
            "tags": []
          },
          "execution_count": 5
        }
      ]
    },
    {
      "cell_type": "code",
      "metadata": {
        "id": "7wcjue8W3YLQ"
      },
      "source": [
        "def tokenize(string):\n",
        "    return re.compile('\\w+').findall(string)\n",
        "\n",
        "def word_freq(string): \n",
        "    text = tokenize(string.lower())\n",
        "    c = Counter(text)           # count the words\n",
        "    d = Counter(''.join(text))  # count all letters\n",
        "    return (dict(c))    # return a tuple of counted words and letters\n",
        "\n",
        "def return_word_freq(string): \n",
        "    text = tokenize(string.lower())\n",
        "    c = Counter(text)           # count the words\n",
        "    d = Counter(''.join(text))  # count all letters\n",
        "    return (dict(c), dict(d))    # return a tuple of counted words and letters\n",
        "\n",
        "words = word_freq(given_string) # count and get dicts with counts\n",
        "words_, letters = return_word_freq(given_string)\n",
        "\n",
        "sumWords = sum(words.values())       # sum total words\n",
        "sumLetters = sum(letters.values())   # sum total letters\n",
        "\n"
      ],
      "execution_count": null,
      "outputs": []
    },
    {
      "cell_type": "code",
      "metadata": {
        "colab": {
          "base_uri": "https://localhost:8080/"
        },
        "id": "o73aFCKF3YLR",
        "outputId": "a5a8f8da-7a8c-4aee-b13f-ee9ce73042f8"
      },
      "source": [
        "len(words)"
      ],
      "execution_count": null,
      "outputs": [
        {
          "output_type": "execute_result",
          "data": {
            "text/plain": [
              "194"
            ]
          },
          "metadata": {
            "tags": []
          },
          "execution_count": 7
        }
      ]
    },
    {
      "cell_type": "code",
      "metadata": {
        "colab": {
          "base_uri": "https://localhost:8080/"
        },
        "id": "ovOkA_Hd3YLR",
        "outputId": "b83e5f32-19e2-43b8-fea2-d20472e167d5"
      },
      "source": [
        "{k:v for (k,v) in words.items() if v>8 }"
      ],
      "execution_count": null,
      "outputs": [
        {
          "output_type": "execute_result",
          "data": {
            "text/plain": [
              "{'a': 10, 'analytics': 10, 'and': 9, 'data': 18, 'of': 10, 'the': 11, 'to': 11}"
            ]
          },
          "metadata": {
            "tags": []
          },
          "execution_count": 8
        }
      ]
    },
    {
      "cell_type": "code",
      "metadata": {
        "id": "PiyeieIh3YLS"
      },
      "source": [
        "# The probability of an event A is the number of ways event A can occur divided by the total number of possible outcomes.\n",
        "data_count = words['data']\n",
        "analytics_count = words['analytics']"
      ],
      "execution_count": null,
      "outputs": []
    },
    {
      "cell_type": "code",
      "metadata": {
        "id": "rehEZji33YLS"
      },
      "source": [
        "probablity_of_data_appearing_in_every_line = data_count/nlines"
      ],
      "execution_count": null,
      "outputs": []
    },
    {
      "cell_type": "code",
      "metadata": {
        "colab": {
          "base_uri": "https://localhost:8080/"
        },
        "id": "MYJbm2813YLS",
        "outputId": "1ceebfa2-7f81-4ec8-f8f5-a837b51c903f"
      },
      "source": [
        "probablity_of_data_appearing_in_every_line"
      ],
      "execution_count": null,
      "outputs": [
        {
          "output_type": "execute_result",
          "data": {
            "text/plain": [
              "0.782608695652174"
            ]
          },
          "metadata": {
            "tags": []
          },
          "execution_count": 11
        }
      ]
    },
    {
      "cell_type": "code",
      "metadata": {
        "id": "8vPycasW3YLT"
      },
      "source": [
        "# GOT IT ! 0.78 it is......"
      ],
      "execution_count": null,
      "outputs": []
    },
    {
      "cell_type": "code",
      "metadata": {
        "id": "55R4csK13YLT"
      },
      "source": [
        "probablity_of_data_appearing_in_full_text = data_count/sumWords"
      ],
      "execution_count": null,
      "outputs": []
    },
    {
      "cell_type": "code",
      "metadata": {
        "colab": {
          "base_uri": "https://localhost:8080/"
        },
        "id": "U-j6rhA_3YLT",
        "outputId": "143cd861-cf76-49c0-998e-581db565156b"
      },
      "source": [
        "probablity_of_data_appearing_in_full_text"
      ],
      "execution_count": null,
      "outputs": [
        {
          "output_type": "execute_result",
          "data": {
            "text/plain": [
              "0.05625"
            ]
          },
          "metadata": {
            "tags": []
          },
          "execution_count": 14
        }
      ]
    },
    {
      "cell_type": "markdown",
      "metadata": {
        "id": "TtmXQW_Q3YLT"
      },
      "source": [
        "## B. Now figure out this -> What is the distribution of distinct word counts across all the lines ?\n",
        "- 1. We shall first figure out the distinct word counts in every line,\n",
        "- 2. Create a histogram, bar plot or something similar to see the distribution."
      ]
    },
    {
      "cell_type": "code",
      "metadata": {
        "id": "8D9p4-Ud3YLU"
      },
      "source": [
        "line_unique_counts = []\n",
        "for line in line_list:\n",
        "    line_unique_counts.append(len(word_freq(line)))"
      ],
      "execution_count": null,
      "outputs": []
    },
    {
      "cell_type": "code",
      "metadata": {
        "colab": {
          "base_uri": "https://localhost:8080/"
        },
        "id": "xus0ogci3YLU",
        "outputId": "5f8b872d-4215-4ded-a399-190c709fdbeb"
      },
      "source": [
        "line_unique_counts"
      ],
      "execution_count": null,
      "outputs": [
        {
          "output_type": "execute_result",
          "data": {
            "text/plain": [
              "[14,\n",
              " 13,\n",
              " 13,\n",
              " 13,\n",
              " 16,\n",
              " 13,\n",
              " 12,\n",
              " 10,\n",
              " 14,\n",
              " 13,\n",
              " 15,\n",
              " 17,\n",
              " 14,\n",
              " 13,\n",
              " 12,\n",
              " 17,\n",
              " 18,\n",
              " 14,\n",
              " 11,\n",
              " 13,\n",
              " 11,\n",
              " 14,\n",
              " 5]"
            ]
          },
          "metadata": {
            "tags": []
          },
          "execution_count": 16
        }
      ]
    },
    {
      "cell_type": "code",
      "metadata": {
        "id": "8Do6sBWI3YLU"
      },
      "source": [
        "df_unique_words = pd.DataFrame(line_unique_counts)"
      ],
      "execution_count": null,
      "outputs": []
    },
    {
      "cell_type": "code",
      "metadata": {
        "colab": {
          "base_uri": "https://localhost:8080/",
          "height": 754
        },
        "id": "VWmNuGzJ3YLU",
        "outputId": "f85d6760-3673-4c6b-ebde-f23ad22657cf"
      },
      "source": [
        "df_unique_words.rename(columns={0: \"Unique_Words\"})"
      ],
      "execution_count": null,
      "outputs": [
        {
          "output_type": "execute_result",
          "data": {
            "text/html": [
              "<div>\n",
              "<style scoped>\n",
              "    .dataframe tbody tr th:only-of-type {\n",
              "        vertical-align: middle;\n",
              "    }\n",
              "\n",
              "    .dataframe tbody tr th {\n",
              "        vertical-align: top;\n",
              "    }\n",
              "\n",
              "    .dataframe thead th {\n",
              "        text-align: right;\n",
              "    }\n",
              "</style>\n",
              "<table border=\"1\" class=\"dataframe\">\n",
              "  <thead>\n",
              "    <tr style=\"text-align: right;\">\n",
              "      <th></th>\n",
              "      <th>Unique_Words</th>\n",
              "    </tr>\n",
              "  </thead>\n",
              "  <tbody>\n",
              "    <tr>\n",
              "      <th>0</th>\n",
              "      <td>14</td>\n",
              "    </tr>\n",
              "    <tr>\n",
              "      <th>1</th>\n",
              "      <td>13</td>\n",
              "    </tr>\n",
              "    <tr>\n",
              "      <th>2</th>\n",
              "      <td>13</td>\n",
              "    </tr>\n",
              "    <tr>\n",
              "      <th>3</th>\n",
              "      <td>13</td>\n",
              "    </tr>\n",
              "    <tr>\n",
              "      <th>4</th>\n",
              "      <td>16</td>\n",
              "    </tr>\n",
              "    <tr>\n",
              "      <th>5</th>\n",
              "      <td>13</td>\n",
              "    </tr>\n",
              "    <tr>\n",
              "      <th>6</th>\n",
              "      <td>12</td>\n",
              "    </tr>\n",
              "    <tr>\n",
              "      <th>7</th>\n",
              "      <td>10</td>\n",
              "    </tr>\n",
              "    <tr>\n",
              "      <th>8</th>\n",
              "      <td>14</td>\n",
              "    </tr>\n",
              "    <tr>\n",
              "      <th>9</th>\n",
              "      <td>13</td>\n",
              "    </tr>\n",
              "    <tr>\n",
              "      <th>10</th>\n",
              "      <td>15</td>\n",
              "    </tr>\n",
              "    <tr>\n",
              "      <th>11</th>\n",
              "      <td>17</td>\n",
              "    </tr>\n",
              "    <tr>\n",
              "      <th>12</th>\n",
              "      <td>14</td>\n",
              "    </tr>\n",
              "    <tr>\n",
              "      <th>13</th>\n",
              "      <td>13</td>\n",
              "    </tr>\n",
              "    <tr>\n",
              "      <th>14</th>\n",
              "      <td>12</td>\n",
              "    </tr>\n",
              "    <tr>\n",
              "      <th>15</th>\n",
              "      <td>17</td>\n",
              "    </tr>\n",
              "    <tr>\n",
              "      <th>16</th>\n",
              "      <td>18</td>\n",
              "    </tr>\n",
              "    <tr>\n",
              "      <th>17</th>\n",
              "      <td>14</td>\n",
              "    </tr>\n",
              "    <tr>\n",
              "      <th>18</th>\n",
              "      <td>11</td>\n",
              "    </tr>\n",
              "    <tr>\n",
              "      <th>19</th>\n",
              "      <td>13</td>\n",
              "    </tr>\n",
              "    <tr>\n",
              "      <th>20</th>\n",
              "      <td>11</td>\n",
              "    </tr>\n",
              "    <tr>\n",
              "      <th>21</th>\n",
              "      <td>14</td>\n",
              "    </tr>\n",
              "    <tr>\n",
              "      <th>22</th>\n",
              "      <td>5</td>\n",
              "    </tr>\n",
              "  </tbody>\n",
              "</table>\n",
              "</div>"
            ],
            "text/plain": [
              "    Unique_Words\n",
              "0             14\n",
              "1             13\n",
              "2             13\n",
              "3             13\n",
              "4             16\n",
              "5             13\n",
              "6             12\n",
              "7             10\n",
              "8             14\n",
              "9             13\n",
              "10            15\n",
              "11            17\n",
              "12            14\n",
              "13            13\n",
              "14            12\n",
              "15            17\n",
              "16            18\n",
              "17            14\n",
              "18            11\n",
              "19            13\n",
              "20            11\n",
              "21            14\n",
              "22             5"
            ]
          },
          "metadata": {
            "tags": []
          },
          "execution_count": 18
        }
      ]
    },
    {
      "cell_type": "code",
      "metadata": {
        "id": "ySqlYSAN3YLV"
      },
      "source": [
        "import seaborn as sns"
      ],
      "execution_count": null,
      "outputs": []
    },
    {
      "cell_type": "code",
      "metadata": {
        "colab": {
          "base_uri": "https://localhost:8080/",
          "height": 355
        },
        "id": "5E-EJtAw3YLV",
        "outputId": "c42c1af5-066c-44e4-825d-bbfcd244441d"
      },
      "source": [
        "sns.distplot(df_unique_words, kde=True, rug=True);"
      ],
      "execution_count": null,
      "outputs": [
        {
          "output_type": "stream",
          "text": [
            "/usr/local/lib/python3.7/dist-packages/seaborn/distributions.py:2557: FutureWarning: `distplot` is a deprecated function and will be removed in a future version. Please adapt your code to use either `displot` (a figure-level function with similar flexibility) or `histplot` (an axes-level function for histograms).\n",
            "  warnings.warn(msg, FutureWarning)\n",
            "/usr/local/lib/python3.7/dist-packages/seaborn/distributions.py:2056: FutureWarning: The `axis` variable is no longer used and will be removed. Instead, assign variables directly to `x` or `y`.\n",
            "  warnings.warn(msg, FutureWarning)\n"
          ],
          "name": "stderr"
        },
        {
          "output_type": "display_data",
          "data": {
            "image/png": "[encoded data removed]",
            "text/plain": [
              "<Figure size 432x288 with 1 Axes>"
            ]
          },
          "metadata": {
            "tags": [],
            "needs_background": "light"
          }
        }
      ]
    },
    {
      "cell_type": "code",
      "metadata": {
        "id": "U6GN_UuZ3YLV"
      },
      "source": [
        "# NORMALLY DISTRIBUTED - to an extent."
      ],
      "execution_count": null,
      "outputs": []
    },
    {
      "cell_type": "markdown",
      "metadata": {
        "id": "uL6aY8pW3YLV"
      },
      "source": [
        "## C. Finally time to figure out this -> What is the probability of the word “analytics” occurring after the word “data” ?\n",
        "- 1. draw the bigrams,\n",
        "- 2. determine their counts\n",
        "- 3. find \"data analytics\" and only \"analytics\" counts\n",
        "- 4. calculate the probability."
      ]
    },
    {
      "cell_type": "code",
      "metadata": {
        "colab": {
          "base_uri": "https://localhost:8080/"
        },
        "id": "2otAnHBi3YLV",
        "outputId": "5ceeaa6f-b145-4ef1-ffb0-6f530c06953d"
      },
      "source": [
        "# import nltk \n",
        "# import re \n",
        "# from sklearn.feature_extraction.text import CountVectorizer, TfidfVectorizer \n",
        "# from nltk.corpus import stopwords \n",
        "# from nltk.tokenize import word_tokenize \n",
        "# import pandas as pd \n",
        "\n",
        "# Getting bigrams  \n",
        "vectorizer = CountVectorizer(ngram_range =(2, 2)) \n",
        "X1 = vectorizer.fit_transform(line_list)  \n",
        "features = (vectorizer.get_feature_names()) \n",
        "# print(\"\\n\\nX1 : \\n\", X1.toarray()) \n",
        "  \n",
        "# Applying TFIDF \n",
        "# You can still get n-grams here \n",
        "vectorizer = TfidfVectorizer(ngram_range = (2, 2)) \n",
        "X2 = vectorizer.fit_transform(line_list) \n",
        "scores = (X2.toarray()) \n",
        "# print(\"\\n\\nScores : \\n\", scores) \n",
        "  \n",
        "# Getting top ranking features \n",
        "sums = X2.sum(axis = 0) \n",
        "data1 = [] \n",
        "for col, term in enumerate(features): \n",
        "    data1.append( (term, sums[0, col] )) \n",
        "ranking = pd.DataFrame(data1, columns = ['term', 'rank']) \n",
        "words = (ranking.sort_values('rank', ascending = False)) \n",
        "print (\"\\n\\nWords : \\n\", words.head(7)) "
      ],
      "execution_count": null,
      "outputs": [
        {
          "output_type": "stream",
          "text": [
            "\n",
            "\n",
            "Words : \n",
            "                  term      rank\n",
            "80     data analytics  1.121468\n",
            "79      data analysis  1.074633\n",
            "100  exploratory data  0.509671\n",
            "159    numerical data  0.507052\n",
            "235        themes and  0.500000\n",
            "32         and points  0.500000\n",
            "186         points of  0.500000\n"
          ],
          "name": "stdout"
        }
      ]
    },
    {
      "cell_type": "code",
      "metadata": {
        "colab": {
          "base_uri": "https://localhost:8080/"
        },
        "id": "AROQs4s13YLW",
        "outputId": "ad948a18-1de5-4f8e-f62e-fa8bf026293a"
      },
      "source": [
        "#The probability of an event A is the number of ways event A can occur divided by the total number of possible outcomes.\n",
        "import re\n",
        "from collections import Counter\n",
        "bigramwords = re.findall('\\w+', given_string)\n",
        "bigram_counts = Counter(zip(bigramwords,bigramwords[1:]))\n",
        "data_analytics_count = bigram_counts[(\"data\", \"analytics\")]\n",
        "print(f\"Number of times data analytics appear together: {data_analytics_count}\")\n",
        "print(f\"Number of times only analytics appear in complete text: {analytics_count}\")"
      ],
      "execution_count": null,
      "outputs": [
        {
          "output_type": "stream",
          "text": [
            "Number of times data analytics appear together: 6\n",
            "Number of times only analytics appear in complete text: 10\n"
          ],
          "name": "stdout"
        }
      ]
    },
    {
      "cell_type": "code",
      "metadata": {
        "colab": {
          "base_uri": "https://localhost:8080/"
        },
        "id": "VRWYaP833YLW",
        "outputId": "93f69cae-836d-4c23-d7e8-18aef0ea374c"
      },
      "source": [
        "print(f\"Probablity of analytics appearing after data: {data_analytics_count/analytics_count}\")"
      ],
      "execution_count": null,
      "outputs": [
        {
          "output_type": "stream",
          "text": [
            "Probablity of analytics appearing after data: 0.6\n"
          ],
          "name": "stdout"
        }
      ]
    },
    {
      "cell_type": "code",
      "metadata": {
        "id": "PUMobuFq3YLW"
      },
      "source": [
        ""
      ],
      "execution_count": null,
      "outputs": []
    },
    {
      "cell_type": "code",
      "metadata": {
        "id": "wrWIWjGq3YLW"
      },
      "source": [
        ""
      ],
      "execution_count": null,
      "outputs": []
    },
    {
      "cell_type": "code",
      "metadata": {
        "id": "Jr3D62hB3YLW"
      },
      "source": [
        ""
      ],
      "execution_count": null,
      "outputs": []
    }
  ]
}